{
  "cells": [
    {
      "cell_type": "markdown",
      "metadata": {
        "id": "view-in-github",
        "colab_type": "text"
      },
      "source": [
        "<a href=\"https://colab.research.google.com/github/NetralLaia/BelajarGit/blob/main/Pyton%2018%20Maret%202024.ipynb\" target=\"_parent\"><img src=\"https://colab.research.google.com/assets/colab-badge.svg\" alt=\"Open In Colab\"/></a>"
      ]
    },
    {
      "cell_type": "code",
      "source": [
        "import pandas as pd\n",
        "pd.__version__"
      ],
      "metadata": {
        "colab": {
          "base_uri": "https://localhost:8080/",
          "height": 35
        },
        "id": "voeJ5Q_u3Z01",
        "outputId": "e7757fbd-21a0-4579-9c07-675486427338"
      },
      "execution_count": null,
      "outputs": [
        {
          "output_type": "execute_result",
          "data": {
            "text/plain": [
              "'1.5.3'"
            ],
            "application/vnd.google.colaboratory.intrinsic+json": {
              "type": "string"
            }
          },
          "metadata": {},
          "execution_count": 1
        }
      ]
    },
    {
      "cell_type": "code",
      "source": [
        "course=\"MCA\"\n",
        "Course=\"MSc\"\n",
        "print(course)\n",
        "print(Course)"
      ],
      "metadata": {
        "colab": {
          "base_uri": "https://localhost:8080/"
        },
        "id": "R9Oy9bIk5DuY",
        "outputId": "64b75393-9f27-4e88-af9f-7269215c3557"
      },
      "execution_count": null,
      "outputs": [
        {
          "output_type": "stream",
          "name": "stdout",
          "text": [
            "MCA\n",
            "MSc\n"
          ]
        }
      ]
    },
    {
      "cell_type": "code",
      "source": [
        "x=10\n",
        "print(type(x))\n",
        "x=\"CSIBER\"\n",
        "print(type(x))"
      ],
      "metadata": {
        "colab": {
          "base_uri": "https://localhost:8080/"
        },
        "id": "oE0iEAh55eUS",
        "outputId": "7280f95a-6365-4948-dfd2-68c04fb526aa"
      },
      "execution_count": null,
      "outputs": [
        {
          "output_type": "stream",
          "name": "stdout",
          "text": [
            "<class 'int'>\n",
            "<class 'str'>\n"
          ]
        }
      ]
    },
    {
      "cell_type": "code",
      "source": [
        "import pandas as pd\n",
        "import numpy as np\n",
        "import warnings\n",
        "\n",
        "warnings.filterwarnings('ignore')\n",
        "\n",
        "n_samples = 100\n",
        "\n",
        "transaction_time = pd.date_range(start = '1/1/2023', end = '31/12/2023', periods = n_samples)\n",
        "\n",
        "products = np.random.choice (['A','B','C'], n_samples)\n",
        "\n",
        "amounst = np.random.randint(1, 11, n_samples)\n",
        "\n",
        "prices = np.random.uniform(10.0, 20.0, n_samples)\n",
        "\n",
        "total_prices = amounst * prices.astype(float)\n",
        "\n",
        "df = pd.DataFrame({\n",
        "    'Transaction time': transaction_time,\n",
        "    'Product': products,\n",
        "    'Amount': amounst,\n",
        "    'Price': prices,\n",
        "    'Total price': total_prices\n",
        "})\n",
        "\n",
        "import matplotlib.pyplot as plt\n",
        "import seaborn as sns\n",
        "print(df.describe())\n",
        "print(df.head())"
      ],
      "metadata": {
        "colab": {
          "base_uri": "https://localhost:8080/"
        },
        "id": "N_I61xoJ9uM5",
        "outputId": "0962eca8-85ce-4186-f31d-7e502e47dc49"
      },
      "execution_count": null,
      "outputs": [
        {
          "output_type": "stream",
          "name": "stdout",
          "text": [
            "           Amount       Price  Total price\n",
            "count  100.000000  100.000000   100.000000\n",
            "mean     5.620000   15.253064    86.798166\n",
            "std      3.077386    2.884436    52.780360\n",
            "min      1.000000   10.094297    11.299942\n",
            "25%      3.000000   13.155808    39.268853\n",
            "50%      6.000000   15.006704    78.141323\n",
            "75%      8.000000   17.490777   135.436069\n",
            "max     10.000000   19.891518   194.571445\n",
            "               Transaction time Product  Amount      Price  Total price\n",
            "0 2023-01-01 00:00:00.000000000       B       9  19.371661   174.344945\n",
            "1 2023-01-04 16:14:32.727272727       B       9  13.150071   118.350640\n",
            "2 2023-01-08 08:29:05.454545454       A       5  14.535267    72.676333\n",
            "3 2023-01-12 00:43:38.181818181       A      10  14.963575   149.635747\n",
            "4 2023-01-15 16:58:10.909090909       C      10  16.232394   162.323938\n"
          ]
        }
      ]
    },
    {
      "cell_type": "code",
      "source": [
        "plt.hist(df['Amount'], bins=10, edgecolor='red')\n",
        "plt.xlabel('Amount')\n",
        "plt.ylabel('Frequency')\n",
        "plt.show()"
      ],
      "metadata": {
        "colab": {
          "base_uri": "https://localhost:8080/",
          "height": 449
        },
        "id": "o98bsnRsKtFp",
        "outputId": "a6dc8692-fc56-4522-98bf-5e3b2d43ea67"
      },
      "execution_count": null,
      "outputs": [
        {
          "output_type": "display_data",
          "data": {
            "text/plain": [
              "<Figure size 640x480 with 1 Axes>"
            ],
            "image/png": "[encoded data removed]"
          },
          "metadata": {}
        }
      ]
    }
  ],
  "metadata": {
    "colab": {
      "provenance": [],
      "gpuType": "T4",
      "include_colab_link": true
    },
    "kernelspec": {
      "display_name": "Python 3",
      "name": "python3"
    },
    "accelerator": "GPU"
  },
  "nbformat": 4,
  "nbformat_minor": 0
}