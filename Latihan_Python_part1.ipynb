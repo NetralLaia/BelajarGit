{
  "nbformat": 4,
  "nbformat_minor": 0,
  "metadata": {
    "colab": {
      "provenance": [],
      "authorship_tag": "ABX9TyPjmtOxp5XW35qZnGI2+y4L",
      "include_colab_link": true
    },
    "kernelspec": {
      "name": "python3",
      "display_name": "Python 3"
    },
    "language_info": {
      "name": "python"
    }
  },
  "cells": [
    {
      "cell_type": "markdown",
      "metadata": {
        "id": "view-in-github",
        "colab_type": "text"
      },
      "source": [
        "<a href=\"https://colab.research.google.com/github/NetralLaia/BelajarGit/blob/Tugas1Python/Latihan_Python_part1.ipynb\" target=\"_parent\"><img src=\"https://colab.research.google.com/assets/colab-badge.svg\" alt=\"Open In Colab\"/></a>"
      ]
    },
    {
      "cell_type": "markdown",
      "source": [
        "\n",
        "***1. Buatlah sebuah program sederhana\n",
        "yang mencetak \"Hello, World!\" ke\n",
        "layar***\n"
      ],
      "metadata": {
        "id": "I6WqWpF6Tnop"
      }
    },
    {
      "cell_type": "code",
      "source": [
        "print(\"Hallo world!\")"
      ],
      "metadata": {
        "colab": {
          "base_uri": "https://localhost:8080/"
        },
        "id": "MEjnRWl6Tw7-",
        "outputId": "6730c240-f4aa-42df-a96d-b28057c2eff0"
      },
      "execution_count": 1,
      "outputs": [
        {
          "output_type": "stream",
          "name": "stdout",
          "text": [
            "Hallo world!\n"
          ]
        }
      ]
    },
    {
      "cell_type": "markdown",
      "source": [
        "***2. Tentukan tipe data dari variabel\n",
        "berikut:***"
      ],
      "metadata": {
        "id": "lDNyYX9fUGZP"
      }
    },
    {
      "cell_type": "code",
      "source": [
        "#(2.a)\n",
        "x = 5\n",
        "print(type(x))\n"
      ],
      "metadata": {
        "colab": {
          "base_uri": "https://localhost:8080/"
        },
        "id": "BoAJd_UZUFrk",
        "outputId": "24fc51bc-c330-4024-be15-472d0701a41e"
      },
      "execution_count": 7,
      "outputs": [
        {
          "output_type": "stream",
          "name": "stdout",
          "text": [
            "<class 'int'>\n"
          ]
        }
      ]
    },
    {
      "cell_type": "code",
      "source": [
        "#(2.b)\n",
        "y = 3.14\n",
        "print(type(y))"
      ],
      "metadata": {
        "colab": {
          "base_uri": "https://localhost:8080/"
        },
        "id": "KUCi6ligWAYe",
        "outputId": "0a4a50a0-a243-4826-a210-4d71fe460d23"
      },
      "execution_count": 5,
      "outputs": [
        {
          "output_type": "stream",
          "name": "stdout",
          "text": [
            "<class 'float'>\n"
          ]
        }
      ]
    },
    {
      "cell_type": "code",
      "source": [
        "#(2.c)\n",
        "z = \"Hello\"\n",
        "print(type(z))"
      ],
      "metadata": {
        "colab": {
          "base_uri": "https://localhost:8080/"
        },
        "id": "o3bOI2BdWEo-",
        "outputId": "31f3d28b-e70b-48f6-9377-0c0b03bf4bd1"
      },
      "execution_count": 6,
      "outputs": [
        {
          "output_type": "stream",
          "name": "stdout",
          "text": [
            "<class 'str'>\n"
          ]
        }
      ]
    },
    {
      "cell_type": "code",
      "source": [
        "#(2.d)\n",
        "boolean_var = True\n",
        "print(type(boolean_var))"
      ],
      "metadata": {
        "colab": {
          "base_uri": "https://localhost:8080/"
        },
        "id": "vi0uPsl0WRRH",
        "outputId": "cbebcfb3-3470-46be-cc9d-7d11e961ff84"
      },
      "execution_count": 10,
      "outputs": [
        {
          "output_type": "stream",
          "name": "stdout",
          "text": [
            "<class 'bool'>\n"
          ]
        }
      ]
    },
    {
      "cell_type": "code",
      "source": [
        "#(2.e)\n",
        "list_var = [1, 2, 3, 4, 5]\n",
        "print(type(list_var))"
      ],
      "metadata": {
        "colab": {
          "base_uri": "https://localhost:8080/"
        },
        "id": "mobcqMqhXEQs",
        "outputId": "cc579c10-c453-4413-e010-e68c9897862f"
      },
      "execution_count": 11,
      "outputs": [
        {
          "output_type": "stream",
          "name": "stdout",
          "text": [
            "<class 'list'>\n"
          ]
        }
      ]
    },
    {
      "cell_type": "code",
      "source": [
        "#(2.f)\n",
        "tuple_var = (10, 20, 30)\n",
        "print(type(tuple_var))"
      ],
      "metadata": {
        "colab": {
          "base_uri": "https://localhost:8080/"
        },
        "id": "pys8PDlyXUPv",
        "outputId": "e99aabaf-9193-4353-94f1-b32470dcb794"
      },
      "execution_count": 12,
      "outputs": [
        {
          "output_type": "stream",
          "name": "stdout",
          "text": [
            "<class 'tuple'>\n"
          ]
        }
      ]
    },
    {
      "cell_type": "code",
      "source": [
        "#(2.g)\n",
        "dictionary_var = {'nama': 'Agus', 'umur': 30}\n",
        "print(type(dictionary_var))"
      ],
      "metadata": {
        "colab": {
          "base_uri": "https://localhost:8080/"
        },
        "id": "R1U6lCnmXknN",
        "outputId": "ca171347-8d6f-4cff-e41f-a18419db376f"
      },
      "execution_count": 13,
      "outputs": [
        {
          "output_type": "stream",
          "name": "stdout",
          "text": [
            "<class 'dict'>\n"
          ]
        }
      ]
    },
    {
      "cell_type": "markdown",
      "source": [
        "***Cara kedua yang lebih simpel***"
      ],
      "metadata": {
        "id": "C8WUdV8zZDwZ"
      }
    },
    {
      "cell_type": "code",
      "source": [
        "x = 5\n",
        "y = 3.14\n",
        "z = \"Hello\"\n",
        "boolean_var = True\n",
        "list_var = [1, 2, 3, 4, 5]\n",
        "tuple_var = (10, 20, 30)\n",
        "dictionary_var = {'nama': 'Agus', 'umur': 30}\n",
        "print(type(x))\n",
        "print(type(y))\n",
        "print(type(z))\n",
        "print(type(boolean_var))\n",
        "print(type(list_var))\n",
        "print(type(tuple_var))\n",
        "print(type(dictionary_var))\n"
      ],
      "metadata": {
        "colab": {
          "base_uri": "https://localhost:8080/"
        },
        "id": "5UpsnxEHXxdK",
        "outputId": "81574296-bd9d-4ee9-c86a-62f601443556"
      },
      "execution_count": 15,
      "outputs": [
        {
          "output_type": "stream",
          "name": "stdout",
          "text": [
            "<class 'int'>\n",
            "<class 'float'>\n",
            "<class 'str'>\n",
            "<class 'bool'>\n",
            "<class 'list'>\n",
            "<class 'tuple'>\n",
            "<class 'dict'>\n"
          ]
        }
      ]
    },
    {
      "cell_type": "markdown",
      "source": [
        "***Cara*** ***ketiga***"
      ],
      "metadata": {
        "id": "m8jVWmIKc3Mq"
      }
    },
    {
      "cell_type": "code",
      "source": [
        "x = 5\n",
        "print(type(x))\n",
        "\n",
        "y = 3.14\n",
        "print(type(y))\n",
        "\n",
        "z = \"Hello\"\n",
        "print(type(z))\n",
        "\n",
        "boolean_var = True\n",
        "print(type(boolean_var))\n",
        "\n",
        "list_var = [1, 2, 3, 4, 5]\n",
        "print(type(list_var))\n",
        "\n",
        "tuple_var = (10, 20, 30)\n",
        "print(type(tuple_var))\n",
        "\n",
        "dictionary_var = {'nama': 'Agus', 'umur': 30}\n",
        "print(type(dictionary_var))\n"
      ],
      "metadata": {
        "colab": {
          "base_uri": "https://localhost:8080/"
        },
        "id": "Hk9rh4UxcyQl",
        "outputId": "a75977d7-4741-4271-9639-620fccabbd3a"
      },
      "execution_count": 34,
      "outputs": [
        {
          "output_type": "stream",
          "name": "stdout",
          "text": [
            "<class 'int'>\n",
            "<class 'float'>\n",
            "<class 'str'>\n",
            "<class 'bool'>\n",
            "<class 'list'>\n",
            "<class 'tuple'>\n",
            "<class 'dict'>\n"
          ]
        }
      ]
    },
    {
      "cell_type": "code",
      "source": [
        "x = 5\n",
        "print(type(x))\n",
        "y = 3.14\n",
        "print(type(y))\n",
        "z = \"Hello\"\n",
        "print(type(z))\n",
        "boolean_var = True\n",
        "print(type(boolean_var))\n",
        "list_var = [1, 2, 3, 4, 5]\n",
        "print(type(list_var))\n",
        "tuple_var = (10, 20, 30)\n",
        "print(type(tuple_var))\n",
        "dictionary_var = {'nama': 'Agus', 'umur': 30}\n",
        "print(type(dictionary_var))"
      ],
      "metadata": {
        "colab": {
          "base_uri": "https://localhost:8080/"
        },
        "id": "hRb0xZyIdwU0",
        "outputId": "9b2997f5-fbf6-40fb-da0c-926171224f77"
      },
      "execution_count": 38,
      "outputs": [
        {
          "output_type": "stream",
          "name": "stdout",
          "text": [
            "<class 'int'>\n",
            "<class 'float'>\n",
            "<class 'str'>\n",
            "<class 'bool'>\n",
            "<class 'list'>\n",
            "<class 'tuple'>\n",
            "<class 'dict'>\n"
          ]
        }
      ]
    },
    {
      "cell_type": "markdown",
      "source": [
        "***3. tuliskan code untuk print variable x***\n",
        "\n",
        "\n",
        "\n",
        "\n"
      ],
      "metadata": {
        "id": "2vxGnHYYZOLV"
      }
    },
    {
      "cell_type": "code",
      "source": [
        "print(x)"
      ],
      "metadata": {
        "colab": {
          "base_uri": "https://localhost:8080/"
        },
        "id": "P9_cDpDLZb6t",
        "outputId": "b0b5f107-a2be-4044-e3bd-18018908e682"
      },
      "execution_count": 16,
      "outputs": [
        {
          "output_type": "stream",
          "name": "stdout",
          "text": [
            "5\n"
          ]
        }
      ]
    },
    {
      "cell_type": "markdown",
      "source": [
        "***4.  tuliskan code untuk print variable y***\n"
      ],
      "metadata": {
        "id": "T52ATHg6aFYU"
      }
    },
    {
      "cell_type": "code",
      "source": [
        "print(y)"
      ],
      "metadata": {
        "colab": {
          "base_uri": "https://localhost:8080/"
        },
        "id": "Z8ce8qovarWm",
        "outputId": "702cb4b5-1a39-4fef-807c-76cab7b50c5b"
      },
      "execution_count": 17,
      "outputs": [
        {
          "output_type": "stream",
          "name": "stdout",
          "text": [
            "3.14\n"
          ]
        }
      ]
    },
    {
      "cell_type": "markdown",
      "source": [
        "***5. tuliskan code untuk print variable z***"
      ],
      "metadata": {
        "id": "tLyWT8adaTSy"
      }
    },
    {
      "cell_type": "code",
      "source": [
        "print(z)"
      ],
      "metadata": {
        "colab": {
          "base_uri": "https://localhost:8080/"
        },
        "id": "Vyo5ktszave6",
        "outputId": "5784ce18-ae35-412e-850b-5b96815b5522"
      },
      "execution_count": 18,
      "outputs": [
        {
          "output_type": "stream",
          "name": "stdout",
          "text": [
            "Hello\n"
          ]
        }
      ]
    },
    {
      "cell_type": "markdown",
      "source": [
        "***6. tuliskan kode untuk mengambil dan print angka 3\n",
        "dari variable list_var***"
      ],
      "metadata": {
        "id": "b65qrB8ZaXRC"
      }
    },
    {
      "cell_type": "code",
      "source": [
        "print(list_var)"
      ],
      "metadata": {
        "colab": {
          "base_uri": "https://localhost:8080/"
        },
        "id": "U8QKcwaQayYo",
        "outputId": "7e5fc4cc-cdd5-4c8a-8269-e18a6d187c21"
      },
      "execution_count": 22,
      "outputs": [
        {
          "output_type": "stream",
          "name": "stdout",
          "text": [
            "[1, 2, 3, 4, 5]\n"
          ]
        }
      ]
    },
    {
      "cell_type": "markdown",
      "source": [
        "***7. tuliskan kode untuk mengambil dan print angka 30\n",
        "dari variable tuple_var***"
      ],
      "metadata": {
        "id": "DCcWbsM2aehs"
      }
    },
    {
      "cell_type": "code",
      "source": [
        "print(tuple_var)"
      ],
      "metadata": {
        "colab": {
          "base_uri": "https://localhost:8080/"
        },
        "id": "u2CNuQGVa3L5",
        "outputId": "5cccd985-4a7b-48e4-86ad-8e708d99ef83"
      },
      "execution_count": 20,
      "outputs": [
        {
          "output_type": "stream",
          "name": "stdout",
          "text": [
            "(10, 20, 30)\n"
          ]
        }
      ]
    },
    {
      "cell_type": "markdown",
      "source": [
        "***8. tuliskan kode untuk mengambil dan print angka 30\n",
        "dari variable dictionary_var***"
      ],
      "metadata": {
        "id": "YaE1YVdhahv3"
      }
    },
    {
      "cell_type": "code",
      "source": [
        "print(dictionary_var)"
      ],
      "metadata": {
        "colab": {
          "base_uri": "https://localhost:8080/"
        },
        "id": "SUmh_DnUbC-A",
        "outputId": "82329fa5-a768-4971-af08-a6e71c973f97"
      },
      "execution_count": 21,
      "outputs": [
        {
          "output_type": "stream",
          "name": "stdout",
          "text": [
            "{'nama': 'Agus', 'umur': 30}\n"
          ]
        }
      ]
    },
    {
      "cell_type": "markdown",
      "source": [
        "***9. Buatlah sebuah program sederhana untuk\n",
        "menghitung umur dengan rumus\n",
        "umur = tahun sekarang - tahun lahir***"
      ],
      "metadata": {
        "id": "Uuu_lJf2amoA"
      }
    },
    {
      "cell_type": "code",
      "source": [
        "Tahun_sekarang = 2024\n",
        "Tahun_lahir = 2004\n",
        "Umur = Tahun_sekarang - Tahun_lahir\n",
        "print(Umur)\n"
      ],
      "metadata": {
        "colab": {
          "base_uri": "https://localhost:8080/"
        },
        "id": "aRQoCwELbcEI",
        "outputId": "9e65abf2-e210-4e83-c6c5-97cdaf379a7b"
      },
      "execution_count": 32,
      "outputs": [
        {
          "output_type": "stream",
          "name": "stdout",
          "text": [
            "20\n"
          ]
        }
      ]
    },
    {
      "cell_type": "code",
      "source": [
        "#atau\n",
        "\n",
        "umur = 2024-2004\n",
        "print(umur)"
      ],
      "metadata": {
        "colab": {
          "base_uri": "https://localhost:8080/"
        },
        "id": "yrZa1WHwcpnc",
        "outputId": "f054c1f8-cfb6-4b16-da2e-408af36e2b5d"
      },
      "execution_count": 33,
      "outputs": [
        {
          "output_type": "stream",
          "name": "stdout",
          "text": [
            "20\n"
          ]
        }
      ]
    }
  ]
}