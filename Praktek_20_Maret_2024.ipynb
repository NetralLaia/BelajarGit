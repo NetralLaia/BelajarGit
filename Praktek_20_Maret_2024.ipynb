{
  "nbformat": 4,
  "nbformat_minor": 0,
  "metadata": {
    "colab": {
      "provenance": [],
      "authorship_tag": "ABX9TyN1EC/YBVkhYcM0+3Djr3hV",
      "include_colab_link": true
    },
    "kernelspec": {
      "name": "python3",
      "display_name": "Python 3"
    },
    "language_info": {
      "name": "python"
    }
  },
  "cells": [
    {
      "cell_type": "markdown",
      "metadata": {
        "id": "view-in-github",
        "colab_type": "text"
      },
      "source": [
        "<a href=\"https://colab.research.google.com/github/NetralLaia/BelajarGit/blob/main/Praktek_20_Maret_2024.ipynb\" target=\"_parent\"><img src=\"https://colab.research.google.com/assets/colab-badge.svg\" alt=\"Open In Colab\"/></a>"
      ]
    },
    {
      "cell_type": "code",
      "execution_count": 10,
      "metadata": {
        "colab": {
          "base_uri": "https://localhost:8080/"
        },
        "id": "I6_ywJnXnl7e",
        "outputId": "c0e49a3a-e85b-4b93-ca4e-80d6c2f50f9a"
      },
      "outputs": [
        {
          "output_type": "stream",
          "name": "stdout",
          "text": [
            "Netral\n"
          ]
        }
      ],
      "source": [
        "dictionary = {'Name' : 'Netral',\n",
        "              'Hobbies' : ['singing', 'sleeping']}\n",
        "\n",
        "print (dictionary [\"Name\"])"
      ]
    },
    {
      "cell_type": "markdown",
      "source": [
        "***If Statment:***\n",
        "\n",
        "\n",
        "*   Single Condition (if)\n",
        "\n"
      ],
      "metadata": {
        "id": "Hr5taz11q1XR"
      }
    },
    {
      "cell_type": "code",
      "source": [
        "a = 3 #single condition (if)\n",
        "if a == 3:\n",
        "    print (\"a is three\")\n"
      ],
      "metadata": {
        "colab": {
          "base_uri": "https://localhost:8080/"
        },
        "id": "YM4JY41kp5uB",
        "outputId": "0f297032-14cb-417b-9930-7111ea2ba687"
      },
      "execution_count": 179,
      "outputs": [
        {
          "output_type": "stream",
          "name": "stdout",
          "text": [
            "a is three\n"
          ]
        }
      ]
    },
    {
      "cell_type": "code",
      "source": [
        "a = 5\n",
        "b = 7\n",
        "if a <= b:\n",
        "  print(\"a is smaller than b\")"
      ],
      "metadata": {
        "colab": {
          "base_uri": "https://localhost:8080/"
        },
        "id": "wAKRXBEP0sjo",
        "outputId": "51c5a5ff-48ab-4a59-a3f4-c83cbcae2df6"
      },
      "execution_count": 45,
      "outputs": [
        {
          "output_type": "stream",
          "name": "stdout",
          "text": [
            "a is smaller than b\n"
          ]
        }
      ]
    },
    {
      "cell_type": "markdown",
      "source": [
        "\n",
        "\n",
        "*   Two Condition (if -> Else)\n",
        "\n"
      ],
      "metadata": {
        "id": "PoFzJP3Mrga2"
      }
    },
    {
      "cell_type": "code",
      "source": [
        "a = 5     #Two Condition (if -> Else)\n",
        "b = 5\n",
        "if a !=b:\n",
        "  print (\"a and b is not the same\")\n",
        "else:\n",
        "  print (\"a and b is the same\")"
      ],
      "metadata": {
        "colab": {
          "base_uri": "https://localhost:8080/"
        },
        "id": "k0c6wuUkrtR2",
        "outputId": "41abf072-68ce-42b5-e471-f08342a791af"
      },
      "execution_count": 180,
      "outputs": [
        {
          "output_type": "stream",
          "name": "stdout",
          "text": [
            "a and b is the same\n"
          ]
        }
      ]
    },
    {
      "cell_type": "markdown",
      "source": [
        "\n",
        "\n",
        "*   Multiple Condition (If -> Elif -> Else)\n",
        "\n"
      ],
      "metadata": {
        "id": "cfRABmlitYSD"
      }
    },
    {
      "cell_type": "code",
      "source": [
        "a = 3\n",
        "b = 5\n",
        "if a > b:\n",
        "  print (\"a is bigger than b\")\n",
        "elif a < b:\n",
        "  print(\"a is smaller than b\")\n",
        "else:\n",
        "  print(\"a and b is the same\")"
      ],
      "metadata": {
        "colab": {
          "base_uri": "https://localhost:8080/"
        },
        "id": "KjaJ2FvNxRQ-",
        "outputId": "1aeac887-8ccb-4772-af1f-2668b5f26b42"
      },
      "execution_count": 44,
      "outputs": [
        {
          "output_type": "stream",
          "name": "stdout",
          "text": [
            "a is smaller than b\n"
          ]
        }
      ]
    },
    {
      "cell_type": "code",
      "source": [
        "a = 3\n",
        "b = 7\n",
        "c = 20\n",
        "if a < b and b < c:\n",
        "  print(\"a is smaller than b\")"
      ],
      "metadata": {
        "colab": {
          "base_uri": "https://localhost:8080/"
        },
        "id": "QDYxQCg31BoJ",
        "outputId": "611a7755-e69b-44d2-ba3a-6dd4d523cbaf"
      },
      "execution_count": 47,
      "outputs": [
        {
          "output_type": "stream",
          "name": "stdout",
          "text": [
            "a is smaller than b\n"
          ]
        }
      ]
    },
    {
      "cell_type": "code",
      "source": [
        "a = 3\n",
        "b = 7\n",
        "c = 20\n",
        "if c > b or c < a:\n",
        " print(\"At least one of the expression is True\")"
      ],
      "metadata": {
        "colab": {
          "base_uri": "https://localhost:8080/"
        },
        "id": "OCrQxZaN1Pap",
        "outputId": "3212117a-03ff-4b46-b00e-b3dc693e211b"
      },
      "execution_count": 48,
      "outputs": [
        {
          "output_type": "stream",
          "name": "stdout",
          "text": [
            "At least one of the expression is True\n"
          ]
        }
      ]
    },
    {
      "cell_type": "markdown",
      "source": [
        "***“If” Statement Shorthand***\n",
        "\n",
        "\n",
        "*   if\n",
        "\n"
      ],
      "metadata": {
        "id": "46Ry_fiWzfkx"
      }
    },
    {
      "cell_type": "code",
      "source": [
        "a = 3\n",
        "if a == 3:\n",
        "    print(\"a is three\")\n",
        "if a == 3: print(\"a is three\")"
      ],
      "metadata": {
        "colab": {
          "base_uri": "https://localhost:8080/"
        },
        "id": "38c0WD-324l3",
        "outputId": "a8382af6-0f81-4a55-91a9-3a52fe8f8e64"
      },
      "execution_count": 50,
      "outputs": [
        {
          "output_type": "stream",
          "name": "stdout",
          "text": [
            "a is three\n",
            "a is three\n"
          ]
        }
      ]
    },
    {
      "cell_type": "markdown",
      "source": [
        "\n",
        "\n",
        "*   If Else\n",
        "\n"
      ],
      "metadata": {
        "id": "W_0kahFN354K"
      }
    },
    {
      "cell_type": "code",
      "source": [
        "a = 5\n",
        "b = 5\n",
        "if a == b:\n",
        "  print(\"same\")\n",
        "else:\n",
        "  print(\"different\")\n",
        "  print(\"same\") if a==b else print (different)"
      ],
      "metadata": {
        "colab": {
          "base_uri": "https://localhost:8080/"
        },
        "id": "b1cNpEw84AEN",
        "outputId": "b94b070d-8d7a-4799-8748-3f7aa8318735"
      },
      "execution_count": 52,
      "outputs": [
        {
          "output_type": "stream",
          "name": "stdout",
          "text": [
            "same\n"
          ]
        }
      ]
    },
    {
      "cell_type": "markdown",
      "source": [
        "***Nested If***\n",
        "\n"
      ],
      "metadata": {
        "id": "KEq-9n2141OC"
      }
    },
    {
      "cell_type": "code",
      "source": [
        "x = 50\n",
        "\n",
        "if x > 20:\n",
        "  print(\"Above twenty, \")\n",
        "  if x > 40:\n",
        "   print(\"and alsoabove 40\")\n",
        "  else:\n",
        "   print(\"but not above 40\")\n",
        "else:\n",
        "  print(\"Below twenty\")\n"
      ],
      "metadata": {
        "colab": {
          "base_uri": "https://localhost:8080/"
        },
        "id": "c9TVHZ-b89mZ",
        "outputId": "1f524ce0-2ab6-4846-d9b8-882239ebe98e"
      },
      "execution_count": 131,
      "outputs": [
        {
          "output_type": "stream",
          "name": "stdout",
          "text": [
            "Above twenty, \n",
            "and alsoabove 40\n"
          ]
        }
      ]
    },
    {
      "cell_type": "markdown",
      "source": [
        "***Condition Python***\n",
        "\n",
        "\n",
        "*   If Condition\n",
        "\n"
      ],
      "metadata": {
        "id": "wWC7AcSr-Sqo"
      }
    },
    {
      "cell_type": "code",
      "source": [
        "x = 10\n",
        "y =20\n",
        "if x > y:\n",
        "      print(\"x is greater than y\")\n",
        "if y > x:\n",
        "      print(\"y is greater x\")\n",
        "print(\"x value:\", x)\n",
        "print(\"y value:\", y)"
      ],
      "metadata": {
        "colab": {
          "base_uri": "https://localhost:8080/"
        },
        "id": "lKuQa-Ua-SJe",
        "outputId": "786d5190-b75b-41de-85da-00cbf47913f7"
      },
      "execution_count": 136,
      "outputs": [
        {
          "output_type": "stream",
          "name": "stdout",
          "text": [
            "y is greater x\n",
            "x value: 10\n",
            "y value: 20\n"
          ]
        }
      ]
    },
    {
      "cell_type": "markdown",
      "source": [
        "\n",
        "\n",
        "*   If Else Condition\n",
        "\n",
        "\n",
        "\n",
        "\n",
        "\n",
        "\n"
      ],
      "metadata": {
        "id": "rhowHN0CDMwR"
      }
    },
    {
      "cell_type": "code",
      "source": [
        "x = 10\n",
        "y = 20\n",
        "if x > y or x == y:\n",
        "    print(\"x is greater than or equal y\")\n",
        "else:\n",
        "    print(\"y is greater than x\")"
      ],
      "metadata": {
        "colab": {
          "base_uri": "https://localhost:8080/"
        },
        "id": "0srkrF81DcUM",
        "outputId": "53e3fe13-f1e8-4bb8-c84c-0afe92aca7a3"
      },
      "execution_count": 137,
      "outputs": [
        {
          "output_type": "stream",
          "name": "stdout",
          "text": [
            "y is greater than x\n"
          ]
        }
      ]
    },
    {
      "cell_type": "markdown",
      "source": [
        "\n",
        "\n",
        "*   If elif else Condition\n",
        "\n"
      ],
      "metadata": {
        "id": "gZTZcRefD572"
      }
    },
    {
      "cell_type": "code",
      "source": [
        "x = 30\n",
        "y = 50\n",
        "if x > y:\n",
        "    print(\"x is greater than y\")\n",
        "elif y > x:\n",
        "    print(\"y is greater than x\")\n",
        "else:\n",
        "    print(\"x and y are equal\")"
      ],
      "metadata": {
        "colab": {
          "base_uri": "https://localhost:8080/"
        },
        "id": "srq7m2teENe6",
        "outputId": "b083b913-1603-4749-d585-cbb6013b2234"
      },
      "execution_count": 138,
      "outputs": [
        {
          "output_type": "stream",
          "name": "stdout",
          "text": [
            "y is greater than x\n"
          ]
        }
      ]
    },
    {
      "cell_type": "markdown",
      "source": [
        "***LOOP Python***\n",
        "\n",
        "\n",
        "*   while Loop\n",
        "\n"
      ],
      "metadata": {
        "id": "5sf5POw7FoY8"
      }
    },
    {
      "cell_type": "code",
      "source": [
        "i = 1\n",
        "while i < 6:\n",
        "    print(i)\n",
        "    i += 1"
      ],
      "metadata": {
        "colab": {
          "base_uri": "https://localhost:8080/"
        },
        "id": "bXtSU23VFxqn",
        "outputId": "dbc47d00-9d59-49f3-81aa-476d6d0499e6"
      },
      "execution_count": 139,
      "outputs": [
        {
          "output_type": "stream",
          "name": "stdout",
          "text": [
            "1\n",
            "2\n",
            "3\n",
            "4\n",
            "5\n"
          ]
        }
      ]
    },
    {
      "cell_type": "markdown",
      "source": [
        "\n",
        "\n",
        "*   For Loop\n",
        "\n"
      ],
      "metadata": {
        "id": "-w3tRn94GAk-"
      }
    },
    {
      "cell_type": "code",
      "source": [
        "for x in \"banana\":\n",
        "  print(x)"
      ],
      "metadata": {
        "colab": {
          "base_uri": "https://localhost:8080/"
        },
        "id": "EmyEjmqSGE61",
        "outputId": "c94ac0e0-8078-45e3-e359-aa87a67182d5"
      },
      "execution_count": 140,
      "outputs": [
        {
          "output_type": "stream",
          "name": "stdout",
          "text": [
            "b\n",
            "a\n",
            "n\n",
            "a\n",
            "n\n",
            "a\n"
          ]
        }
      ]
    },
    {
      "cell_type": "code",
      "source": [
        "for x in range(1,6):\n",
        "  print(x)"
      ],
      "metadata": {
        "colab": {
          "base_uri": "https://localhost:8080/"
        },
        "id": "QyjM1FTkGn5V",
        "outputId": "7c84c54f-e24b-42be-d6a9-6a303af3541f"
      },
      "execution_count": 141,
      "outputs": [
        {
          "output_type": "stream",
          "name": "stdout",
          "text": [
            "1\n",
            "2\n",
            "3\n",
            "4\n",
            "5\n"
          ]
        }
      ]
    },
    {
      "cell_type": "code",
      "source": [
        "for x in \"banana\":\n",
        "  print(x)\n",
        "for x in range(1,6):\n",
        "    print(x)"
      ],
      "metadata": {
        "colab": {
          "base_uri": "https://localhost:8080/"
        },
        "id": "xmc1sMr6Gu-N",
        "outputId": "d8f26aac-6931-470f-ee70-01f34ad81de8"
      },
      "execution_count": 191,
      "outputs": [
        {
          "output_type": "stream",
          "name": "stdout",
          "text": [
            "b\n",
            "a\n",
            "n\n",
            "a\n",
            "n\n",
            "a\n",
            "1\n",
            "2\n",
            "3\n",
            "4\n",
            "5\n"
          ]
        }
      ]
    },
    {
      "cell_type": "markdown",
      "source": [
        "\n",
        "\n",
        "*   Nested Loop\n",
        "\n"
      ],
      "metadata": {
        "id": "bnoCwaUHG1iJ"
      }
    },
    {
      "cell_type": "code",
      "source": [
        "for x in \"banana\": #part1\n",
        "\n",
        "  for y in range(6):\n",
        "      print(x, end =\" \")\n",
        "\n",
        "print(\"\")\n",
        "\n",
        "print(\"and of code\")"
      ],
      "metadata": {
        "colab": {
          "base_uri": "https://localhost:8080/"
        },
        "id": "IXWyZFCdG90_",
        "outputId": "8c05e514-7442-4711-f2f6-021c0a6a1c57"
      },
      "execution_count": 186,
      "outputs": [
        {
          "output_type": "stream",
          "name": "stdout",
          "text": [
            "b b b b b b a a a a a a n n n n n n a a a a a a n n n n n n a a a a a a \n",
            "and of code\n"
          ]
        }
      ]
    },
    {
      "cell_type": "code",
      "source": [
        "for x in \"banana\": #part 2\n",
        "\n",
        "  for y in range(6):\n",
        "      print(x, end =\" \")\n",
        "\n",
        "  print(\"\")\n",
        "\n",
        "print(\"and of code\")"
      ],
      "metadata": {
        "colab": {
          "base_uri": "https://localhost:8080/"
        },
        "id": "zTYj2YWsQT5a",
        "outputId": "44926af0-c679-425b-ed14-21ebad3665e1"
      },
      "execution_count": 187,
      "outputs": [
        {
          "output_type": "stream",
          "name": "stdout",
          "text": [
            "b b b b b b \n",
            "a a a a a a \n",
            "n n n n n n \n",
            "a a a a a a \n",
            "n n n n n n \n",
            "a a a a a a \n",
            "and of code\n"
          ]
        }
      ]
    },
    {
      "cell_type": "markdown",
      "source": [
        "\n",
        "\n",
        "*   Break\n",
        "*   Continue\n",
        "*   Pass\n",
        "\n",
        "\n"
      ],
      "metadata": {
        "id": "v89VRLMtIPbO"
      }
    },
    {
      "cell_type": "code",
      "source": [
        "for x in range(1,6):\n",
        "  if(x==3):\n",
        "   break\n",
        "  else:\n",
        "    print(x)"
      ],
      "metadata": {
        "colab": {
          "base_uri": "https://localhost:8080/"
        },
        "id": "LndR2-PRILhK",
        "outputId": "dc797b46-fd35-47b3-93f8-4fe63b35f85c"
      },
      "execution_count": 160,
      "outputs": [
        {
          "output_type": "stream",
          "name": "stdout",
          "text": [
            "1\n",
            "2\n"
          ]
        }
      ]
    },
    {
      "cell_type": "code",
      "source": [
        "for x in range(1,6):\n",
        "  if(x==3):\n",
        "    continue\n",
        "  else:\n",
        "    print(x)"
      ],
      "metadata": {
        "colab": {
          "base_uri": "https://localhost:8080/"
        },
        "id": "qH_BootIILR0",
        "outputId": "1bc5c1a1-cf9a-448a-fbfc-8a802d173966"
      },
      "execution_count": 161,
      "outputs": [
        {
          "output_type": "stream",
          "name": "stdout",
          "text": [
            "1\n",
            "2\n",
            "4\n",
            "5\n"
          ]
        }
      ]
    },
    {
      "cell_type": "code",
      "source": [
        "for x in range(1,6):\n",
        "        pass"
      ],
      "metadata": {
        "id": "mstUTxq-Jinv"
      },
      "execution_count": 192,
      "outputs": []
    }
  ]
}