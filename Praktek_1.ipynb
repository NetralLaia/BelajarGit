{
  "nbformat": 4,
  "nbformat_minor": 0,
  "metadata": {
    "colab": {
      "provenance": [],
      "authorship_tag": "ABX9TyNjwJiE1RP1R4N2blHLexlv",
      "include_colab_link": true
    },
    "kernelspec": {
      "name": "python3",
      "display_name": "Python 3"
    },
    "language_info": {
      "name": "python"
    }
  },
  "cells": [
    {
      "cell_type": "markdown",
      "metadata": {
        "id": "view-in-github",
        "colab_type": "text"
      },
      "source": [
        "<a href=\"https://colab.research.google.com/github/NetralLaia/BelajarGit/blob/main/Praktek_1.ipynb\" target=\"_parent\"><img src=\"https://colab.research.google.com/assets/colab-badge.svg\" alt=\"Open In Colab\"/></a>"
      ]
    },
    {
      "cell_type": "code",
      "execution_count": 1,
      "metadata": {
        "colab": {
          "base_uri": "https://localhost:8080/"
        },
        "id": "556ZC2DzR5v6",
        "outputId": "6ae91731-2eb5-465c-a7ec-1de8141d4c7a"
      },
      "outputs": [
        {
          "output_type": "stream",
          "name": "stdout",
          "text": [
            "hallo Naomi\n"
          ]
        }
      ],
      "source": [
        "print ('hallo Naomi')"
      ]
    },
    {
      "cell_type": "code",
      "source": [
        "print(13 + 2) #Hasil Langsung dari Penjumlahan\n",
        "apel = 7\n",
        "jeruk = 9\n",
        "buah = apel + jeruk\n",
        "print(buah) #Hasil dari variabel"
      ],
      "metadata": {
        "colab": {
          "base_uri": "https://localhost:8080/"
        },
        "id": "TU0Q7D56SXb0",
        "outputId": "a1a1d7ab-8255-4a47-d0ef-be2b15381b6c"
      },
      "execution_count": 5,
      "outputs": [
        {
          "output_type": "stream",
          "name": "stdout",
          "text": [
            "15\n",
            "16\n"
          ]
        }
      ]
    },
    {
      "cell_type": "code",
      "source": [
        "x=10\n",
        "print(type(x))\n",
        "x=\"CSIBER\"\n",
        "print(type(x))"
      ],
      "metadata": {
        "colab": {
          "base_uri": "https://localhost:8080/"
        },
        "id": "dj96S3E6TjMY",
        "outputId": "faa1d6bc-338f-470a-fe52-0f0a7c79ab9b"
      },
      "execution_count": 6,
      "outputs": [
        {
          "output_type": "stream",
          "name": "stdout",
          "text": [
            "<class 'int'>\n",
            "<class 'str'>\n"
          ]
        }
      ]
    },
    {
      "cell_type": "code",
      "source": [
        "print(bool(0))\n",
        "print(bool(1))"
      ],
      "metadata": {
        "colab": {
          "base_uri": "https://localhost:8080/"
        },
        "id": "TnqbOxEwTy4z",
        "outputId": "de99d439-9ddd-4a23-864d-5d793274d183"
      },
      "execution_count": 7,
      "outputs": [
        {
          "output_type": "stream",
          "name": "stdout",
          "text": [
            "False\n",
            "True\n"
          ]
        }
      ]
    },
    {
      "cell_type": "code",
      "source": [
        "x=10\n",
        "print(type(x))\n",
        "\n",
        "y=\"Hallo, dunia!\"\n",
        "print(type(y))\n",
        "\n",
        "z=True\n",
        "print(type(z))"
      ],
      "metadata": {
        "colab": {
          "base_uri": "https://localhost:8080/"
        },
        "id": "rOXRH7_MT5v9",
        "outputId": "d79013ae-2e0f-461e-b264-eb8a7ad6c260"
      },
      "execution_count": 9,
      "outputs": [
        {
          "output_type": "stream",
          "name": "stdout",
          "text": [
            "<class 'int'>\n",
            "<class 'str'>\n",
            "<class 'bool'>\n"
          ]
        }
      ]
    },
    {
      "cell_type": "code",
      "source": [
        "i=10\n",
        "print(isinstance(i,int))\n",
        "print(isinstance(i,str))"
      ],
      "metadata": {
        "colab": {
          "base_uri": "https://localhost:8080/"
        },
        "id": "wueZzMjRUbWM",
        "outputId": "8d64eec9-380b-4065-c25e-7b57f89022fe"
      },
      "execution_count": 10,
      "outputs": [
        {
          "output_type": "stream",
          "name": "stdout",
          "text": [
            "True\n",
            "False\n"
          ]
        }
      ]
    },
    {
      "cell_type": "code",
      "source": [
        "x=10\n",
        "y=10.20\n",
        "z=x+y\n",
        "print(z)\n",
        "print(type(z))"
      ],
      "metadata": {
        "colab": {
          "base_uri": "https://localhost:8080/"
        },
        "id": "UsftSIKnUoRk",
        "outputId": "248663e5-39ca-4c91-8ccb-f3bfb9fb84c0"
      },
      "execution_count": 11,
      "outputs": [
        {
          "output_type": "stream",
          "name": "stdout",
          "text": [
            "20.2\n",
            "<class 'float'>\n"
          ]
        }
      ]
    },
    {
      "cell_type": "code",
      "source": [
        "a=b=c=1\n",
        "print(a)\n",
        "print(b)\n",
        "print(c)"
      ],
      "metadata": {
        "colab": {
          "base_uri": "https://localhost:8080/"
        },
        "id": "tpKDYd1ZU26_",
        "outputId": "0dcfd7dd-f047-41f8-9b41-47db8d6eb5ca"
      },
      "execution_count": 12,
      "outputs": [
        {
          "output_type": "stream",
          "name": "stdout",
          "text": [
            "1\n",
            "1\n",
            "1\n"
          ]
        }
      ]
    },
    {
      "cell_type": "code",
      "source": [
        "print(r\"this is frist line\\nthis is second line\")"
      ],
      "metadata": {
        "colab": {
          "base_uri": "https://localhost:8080/"
        },
        "id": "rDkreaOVVEZn",
        "outputId": "f76aa235-94c0-4389-988d-eac05c433470"
      },
      "execution_count": 13,
      "outputs": [
        {
          "output_type": "stream",
          "name": "stdout",
          "text": [
            "this is frist line\\nthis is second line\n"
          ]
        }
      ]
    },
    {
      "cell_type": "code",
      "source": [
        "print(\"this is frist line\\nthis is second line\")"
      ],
      "metadata": {
        "colab": {
          "base_uri": "https://localhost:8080/"
        },
        "id": "2xqh_cNoVPcb",
        "outputId": "e0717272-cc56-4576-f474-c71c2a42cae9"
      },
      "execution_count": 14,
      "outputs": [
        {
          "output_type": "stream",
          "name": "stdout",
          "text": [
            "this is frist line\n",
            "this is second line\n"
          ]
        }
      ]
    },
    {
      "cell_type": "code",
      "source": [
        "print(r\"Rollno\\tName\\tDivision\")"
      ],
      "metadata": {
        "colab": {
          "base_uri": "https://localhost:8080/"
        },
        "id": "cGUgGliuVR71",
        "outputId": "626157ca-bac1-4b8c-b1a5-26eae2b1f0f2"
      },
      "execution_count": 18,
      "outputs": [
        {
          "output_type": "stream",
          "name": "stdout",
          "text": [
            "Rollno\\tName\\tDivision\n"
          ]
        }
      ]
    },
    {
      "cell_type": "code",
      "source": [
        "print(\"Rollno\\tName\\tDivision\")"
      ],
      "metadata": {
        "colab": {
          "base_uri": "https://localhost:8080/"
        },
        "id": "yg90J0AVVmY_",
        "outputId": "6d50c901-875c-4858-d415-53044b32edcb"
      },
      "execution_count": 19,
      "outputs": [
        {
          "output_type": "stream",
          "name": "stdout",
          "text": [
            "Rollno\tName\tDivision\n"
          ]
        }
      ]
    },
    {
      "cell_type": "code",
      "source": [
        "l=[10, 20.30, \"python\", 'c',23]\n",
        "l1=['Msc','CSIBER']\n",
        "print(l[0])\n",
        "print(l[1:3])\n",
        "print(l[:2])\n",
        "print(l[2:])\n",
        "print(l*2)\n",
        "print(l+l1)"
      ],
      "metadata": {
        "colab": {
          "base_uri": "https://localhost:8080/"
        },
        "id": "ZeU63S7SVpqz",
        "outputId": "f81ad52f-5771-4601-849b-669d7ae6c09c"
      },
      "execution_count": 21,
      "outputs": [
        {
          "output_type": "stream",
          "name": "stdout",
          "text": [
            "10\n",
            "[20.3, 'python']\n",
            "[10, 20.3]\n",
            "['python', 'c', 23]\n",
            "[10, 20.3, 'python', 'c', 23, 10, 20.3, 'python', 'c', 23]\n",
            "[10, 20.3, 'python', 'c', 23, 'Msc', 'CSIBER']\n"
          ]
        }
      ]
    },
    {
      "cell_type": "code",
      "source": [
        "str=\"Hello World\"\n",
        "print(str[0])\n",
        "print(str[2:5])\n",
        "print(str[:4])\n",
        "print(str[4:])\n",
        "print(str*4)\n",
        "print(str+\" and Planet\")"
      ],
      "metadata": {
        "colab": {
          "base_uri": "https://localhost:8080/"
        },
        "id": "fZWD4psRXkN5",
        "outputId": "ca4902da-8359-4cb9-c2bc-e98beb630e44"
      },
      "execution_count": 22,
      "outputs": [
        {
          "output_type": "stream",
          "name": "stdout",
          "text": [
            "H\n",
            "llo\n",
            "Hell\n",
            "o World\n",
            "Hello WorldHello WorldHello WorldHello World\n",
            "Hello World and Planet\n"
          ]
        }
      ]
    },
    {
      "cell_type": "code",
      "source": [
        "l=[10, 20.30, \"python\", 'c', 23]\n",
        "print(l)\n",
        "l[2]=\"Java\"\n",
        "print(l)\n"
      ],
      "metadata": {
        "colab": {
          "base_uri": "https://localhost:8080/"
        },
        "id": "3deLnDQdZl3q",
        "outputId": "27cd63fb-ca97-442c-9696-9bab4d7b603c"
      },
      "execution_count": 24,
      "outputs": [
        {
          "output_type": "stream",
          "name": "stdout",
          "text": [
            "[10, 20.3, 'python', 'c', 23]\n",
            "[10, 20.3, 'Java', 'c', 23]\n"
          ]
        }
      ]
    },
    {
      "cell_type": "code",
      "source": [
        "list1=[1,2,3,4,5]\n",
        "list2=[5,4,3,2,1]\n",
        "list3=[1,2,3,4,5]\n",
        "if (list1==list2):\n",
        "  print(\"list1 and list2 are equal\")\n",
        "else:\n",
        "  print(\"list1 and list2 are not equal\")\n",
        "\n",
        "if (list1==list3):\n",
        "  print(\"list1 and list3 are equal\")\n",
        "else:\n",
        "  print(\"list1 and list3 are not equal\")"
      ],
      "metadata": {
        "colab": {
          "base_uri": "https://localhost:8080/"
        },
        "id": "CeOtkJINaFld",
        "outputId": "2139850e-cf13-4a6b-e264-525a8ceb5473"
      },
      "execution_count": 26,
      "outputs": [
        {
          "output_type": "stream",
          "name": "stdout",
          "text": [
            "list1 and list2 are not equal\n",
            "list1 and list3 are equal\n"
          ]
        }
      ]
    },
    {
      "cell_type": "code",
      "source": [
        "numbers=[1,6,344,22,17]\n",
        "sorted_numbers=numbers.sort()\n",
        "print(type(sorted_numbers))"
      ],
      "metadata": {
        "colab": {
          "base_uri": "https://localhost:8080/"
        },
        "id": "CC5kSCyIbI0i",
        "outputId": "9dc4a6f1-9d1e-42de-9f60-a10403a5dc53"
      },
      "execution_count": 27,
      "outputs": [
        {
          "output_type": "stream",
          "name": "stdout",
          "text": [
            "<class 'NoneType'>\n"
          ]
        }
      ]
    },
    {
      "cell_type": "code",
      "source": [
        "numbers=[1,6,344,22,17]\n",
        "print(id(numbers))\n",
        "sorted_numbers=numbers.sort()\n",
        "print(type(sorted_numbers))\n",
        "print(id(numbers))\n",
        "print(numbers)\n",
        "print(sorted_numbers)"
      ],
      "metadata": {
        "colab": {
          "base_uri": "https://localhost:8080/"
        },
        "id": "x4U71fmobYKt",
        "outputId": "f4aa1243-53e3-43fd-8654-21e2a3bd25a6"
      },
      "execution_count": 28,
      "outputs": [
        {
          "output_type": "stream",
          "name": "stdout",
          "text": [
            "133758230820544\n",
            "<class 'NoneType'>\n",
            "133758230820544\n",
            "[1, 6, 17, 22, 344]\n",
            "None\n"
          ]
        }
      ]
    },
    {
      "cell_type": "code",
      "source": [],
      "metadata": {
        "id": "FXvvGm6dcJnF"
      },
      "execution_count": null,
      "outputs": []
    }
  ]
}